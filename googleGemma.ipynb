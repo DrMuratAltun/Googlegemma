{
 "cells": [
  {
   "cell_type": "markdown",
   "id": "dbdbd4d7",
   "metadata": {},
   "source": [
    "# GoogleGemma"
   ]
  },
  {
   "cell_type": "code",
   "execution_count": 2,
   "id": "3c695d08",
   "metadata": {
    "collapsed": true
   },
   "outputs": [
    {
     "name": "stdout",
     "output_type": "stream",
     "text": [
      "Defaulting to user installation because normal site-packages is not writeableNote: you may need to restart the kernel to use updated packages.\n"
     ]
    },
    {
     "name": "stderr",
     "output_type": "stream",
     "text": [
      "  WARNING: The script transformers-cli.exe is installed in 'C:\\Users\\emura\\AppData\\Roaming\\Python\\Python311\\Scripts' which is not on PATH.\n",
      "  Consider adding this directory to PATH or, if you prefer to suppress this warning, use --no-warn-script-location.\n",
      "ERROR: pip's dependency resolver does not currently take into account all the packages that are installed. This behaviour is the source of the following dependency conflicts.\n",
      "suno-bark 0.0.1a0 requires boto3, which is not installed.\n"
     ]
    },
    {
     "name": "stdout",
     "output_type": "stream",
     "text": [
      "\n",
      "Requirement already satisfied: transformers in c:\\programdata\\anaconda3\\lib\\site-packages (4.32.1)\n",
      "Collecting transformers\n",
      "  Downloading transformers-4.38.2-py3-none-any.whl.metadata (130 kB)\n",
      "     ---------------------------------------- 0.0/130.7 kB ? eta -:--:--\n",
      "     --- ------------------------------------ 10.2/130.7 kB ? eta -:--:--\n",
      "     --- ------------------------------------ 10.2/130.7 kB ? eta -:--:--\n",
      "     -------- ---------------------------- 30.7/130.7 kB 262.6 kB/s eta 0:00:01\n",
      "     ----------- ------------------------- 41.0/130.7 kB 279.3 kB/s eta 0:00:01\n",
      "     -------------------------- ---------- 92.2/130.7 kB 476.3 kB/s eta 0:00:01\n",
      "     ------------------------------------ 130.7/130.7 kB 549.8 kB/s eta 0:00:00\n",
      "Requirement already satisfied: filelock in c:\\programdata\\anaconda3\\lib\\site-packages (from transformers) (3.9.0)\n",
      "Requirement already satisfied: huggingface-hub<1.0,>=0.19.3 in c:\\users\\emura\\appdata\\roaming\\python\\python311\\site-packages (from transformers) (0.20.1)\n",
      "Requirement already satisfied: numpy>=1.17 in c:\\programdata\\anaconda3\\lib\\site-packages (from transformers) (1.24.3)\n",
      "Requirement already satisfied: packaging>=20.0 in c:\\users\\emura\\appdata\\roaming\\python\\python311\\site-packages (from transformers) (23.2)\n",
      "Requirement already satisfied: pyyaml>=5.1 in c:\\users\\emura\\appdata\\roaming\\python\\python311\\site-packages (from transformers) (6.0.1)\n",
      "Requirement already satisfied: regex!=2019.12.17 in c:\\programdata\\anaconda3\\lib\\site-packages (from transformers) (2022.7.9)\n",
      "Requirement already satisfied: requests in c:\\users\\emura\\appdata\\roaming\\python\\python311\\site-packages (from transformers) (2.31.0)\n",
      "Requirement already satisfied: tokenizers<0.19,>=0.14 in c:\\users\\emura\\appdata\\roaming\\python\\python311\\site-packages (from transformers) (0.15.0)\n",
      "Collecting safetensors>=0.4.1 (from transformers)\n",
      "  Downloading safetensors-0.4.2-cp311-none-win_amd64.whl.metadata (3.9 kB)\n",
      "Requirement already satisfied: tqdm>=4.27 in c:\\users\\emura\\appdata\\roaming\\python\\python311\\site-packages (from transformers) (4.66.2)\n",
      "Requirement already satisfied: fsspec>=2023.5.0 in c:\\users\\emura\\appdata\\roaming\\python\\python311\\site-packages (from huggingface-hub<1.0,>=0.19.3->transformers) (2023.12.2)\n",
      "Requirement already satisfied: typing-extensions>=3.7.4.3 in c:\\users\\emura\\appdata\\roaming\\python\\python311\\site-packages (from huggingface-hub<1.0,>=0.19.3->transformers) (4.9.0)\n",
      "Requirement already satisfied: colorama in c:\\programdata\\anaconda3\\lib\\site-packages (from tqdm>=4.27->transformers) (0.4.6)\n",
      "Requirement already satisfied: charset-normalizer<4,>=2 in c:\\programdata\\anaconda3\\lib\\site-packages (from requests->transformers) (2.0.4)\n",
      "Requirement already satisfied: idna<4,>=2.5 in c:\\users\\emura\\appdata\\roaming\\python\\python311\\site-packages (from requests->transformers) (2.10)\n",
      "Requirement already satisfied: urllib3<3,>=1.21.1 in c:\\programdata\\anaconda3\\lib\\site-packages (from requests->transformers) (1.26.16)\n",
      "Requirement already satisfied: certifi>=2017.4.17 in c:\\programdata\\anaconda3\\lib\\site-packages (from requests->transformers) (2023.7.22)\n",
      "Downloading transformers-4.38.2-py3-none-any.whl (8.5 MB)\n",
      "   ---------------------------------------- 0.0/8.5 MB ? eta -:--:--\n",
      "    --------------------------------------- 0.1/8.5 MB 7.0 MB/s eta 0:00:02\n",
      "    --------------------------------------- 0.2/8.5 MB 2.0 MB/s eta 0:00:05\n",
      "   - -------------------------------------- 0.3/8.5 MB 2.2 MB/s eta 0:00:04\n",
      "   - -------------------------------------- 0.4/8.5 MB 2.1 MB/s eta 0:00:04\n",
      "   -- ------------------------------------- 0.5/8.5 MB 2.2 MB/s eta 0:00:04\n",
      "   -- ------------------------------------- 0.6/8.5 MB 2.3 MB/s eta 0:00:04\n",
      "   --- ------------------------------------ 0.7/8.5 MB 2.2 MB/s eta 0:00:04\n",
      "   --- ------------------------------------ 0.8/8.5 MB 2.3 MB/s eta 0:00:04\n",
      "   ---- ----------------------------------- 1.0/8.5 MB 2.3 MB/s eta 0:00:04\n",
      "   ---- ----------------------------------- 1.1/8.5 MB 2.3 MB/s eta 0:00:04\n",
      "   ----- ---------------------------------- 1.2/8.5 MB 2.4 MB/s eta 0:00:04\n",
      "   ------ --------------------------------- 1.3/8.5 MB 2.4 MB/s eta 0:00:03\n",
      "   ------ --------------------------------- 1.5/8.5 MB 2.5 MB/s eta 0:00:03\n",
      "   ------- -------------------------------- 1.6/8.5 MB 2.5 MB/s eta 0:00:03\n",
      "   -------- ------------------------------- 1.7/8.5 MB 2.6 MB/s eta 0:00:03\n",
      "   -------- ------------------------------- 1.9/8.5 MB 2.5 MB/s eta 0:00:03\n",
      "   --------- ------------------------------ 2.0/8.5 MB 2.5 MB/s eta 0:00:03\n",
      "   ---------- ----------------------------- 2.2/8.5 MB 2.6 MB/s eta 0:00:03\n",
      "   ---------- ----------------------------- 2.3/8.5 MB 2.6 MB/s eta 0:00:03\n",
      "   ----------- ---------------------------- 2.4/8.5 MB 2.6 MB/s eta 0:00:03\n",
      "   ------------ --------------------------- 2.6/8.5 MB 2.7 MB/s eta 0:00:03\n",
      "   ------------ --------------------------- 2.8/8.5 MB 2.7 MB/s eta 0:00:03\n",
      "   ------------- -------------------------- 2.9/8.5 MB 2.8 MB/s eta 0:00:03\n",
      "   -------------- ------------------------- 3.1/8.5 MB 2.8 MB/s eta 0:00:02\n",
      "   --------------- ------------------------ 3.3/8.5 MB 2.8 MB/s eta 0:00:02\n",
      "   ---------------- ----------------------- 3.6/8.5 MB 3.0 MB/s eta 0:00:02\n",
      "   ----------------- ---------------------- 3.7/8.5 MB 3.0 MB/s eta 0:00:02\n",
      "   ------------------ --------------------- 3.9/8.5 MB 3.0 MB/s eta 0:00:02\n",
      "   ------------------- -------------------- 4.1/8.5 MB 3.1 MB/s eta 0:00:02\n",
      "   -------------------- ------------------- 4.3/8.5 MB 3.1 MB/s eta 0:00:02\n",
      "   --------------------- ------------------ 4.5/8.5 MB 3.1 MB/s eta 0:00:02\n",
      "   ---------------------- ----------------- 4.8/8.5 MB 3.2 MB/s eta 0:00:02\n",
      "   ----------------------- ---------------- 5.0/8.5 MB 3.2 MB/s eta 0:00:02\n",
      "   ------------------------ --------------- 5.2/8.5 MB 3.3 MB/s eta 0:00:02\n",
      "   ------------------------- -------------- 5.4/8.5 MB 3.3 MB/s eta 0:00:01\n",
      "   -------------------------- ------------- 5.6/8.5 MB 3.3 MB/s eta 0:00:01\n",
      "   -------------------------- ------------- 5.7/8.5 MB 3.3 MB/s eta 0:00:01\n",
      "   -------------------------- ------------- 5.7/8.5 MB 3.3 MB/s eta 0:00:01\n",
      "   --------------------------- ------------ 6.0/8.5 MB 3.3 MB/s eta 0:00:01\n",
      "   ---------------------------- ----------- 6.1/8.5 MB 3.3 MB/s eta 0:00:01\n",
      "   ------------------------------ --------- 6.6/8.5 MB 3.5 MB/s eta 0:00:01\n",
      "   ------------------------------- -------- 6.8/8.5 MB 3.5 MB/s eta 0:00:01\n",
      "   -------------------------------- ------- 6.9/8.5 MB 3.5 MB/s eta 0:00:01\n",
      "   --------------------------------- ------ 7.1/8.5 MB 3.5 MB/s eta 0:00:01\n",
      "   ---------------------------------- ----- 7.3/8.5 MB 3.5 MB/s eta 0:00:01\n",
      "   ---------------------------------- ----- 7.5/8.5 MB 3.5 MB/s eta 0:00:01\n",
      "   ----------------------------------- ---- 7.7/8.5 MB 3.5 MB/s eta 0:00:01\n",
      "   ------------------------------------ --- 7.9/8.5 MB 3.5 MB/s eta 0:00:01\n",
      "   ------------------------------------- -- 8.0/8.5 MB 3.5 MB/s eta 0:00:01\n",
      "   -------------------------------------- - 8.2/8.5 MB 3.6 MB/s eta 0:00:01\n",
      "   ---------------------------------------  8.4/8.5 MB 3.5 MB/s eta 0:00:01\n",
      "   ---------------------------------------  8.5/8.5 MB 3.6 MB/s eta 0:00:01\n",
      "   ---------------------------------------- 8.5/8.5 MB 3.5 MB/s eta 0:00:00\n",
      "Downloading safetensors-0.4.2-cp311-none-win_amd64.whl (269 kB)\n",
      "   ---------------------------------------- 0.0/269.6 kB ? eta -:--:--\n",
      "   --------------------------------- ------ 225.3/269.6 kB 4.7 MB/s eta 0:00:01\n",
      "   ---------------------------------------- 269.6/269.6 kB 4.2 MB/s eta 0:00:00\n",
      "Installing collected packages: safetensors, transformers\n",
      "Successfully installed safetensors-0.4.2 transformers-4.38.2\n"
     ]
    }
   ],
   "source": [
    "#pip install transformers -U"
   ]
  },
  {
   "cell_type": "code",
   "execution_count": null,
   "id": "ce58e3b0",
   "metadata": {},
   "outputs": [],
   "source": [
    "pip uninstall tokenizers"
   ]
  },
  {
   "cell_type": "code",
   "execution_count": null,
   "id": "75219791",
   "metadata": {},
   "outputs": [],
   "source": [
    "pip install transformers -U"
   ]
  },
  {
   "cell_type": "markdown",
   "id": "36638154",
   "metadata": {},
   "source": [
    "https://huggingface.co/google/gemma-7b"
   ]
  },
  {
   "cell_type": "code",
   "execution_count": 6,
   "id": "a846fb3e",
   "metadata": {},
   "outputs": [
    {
     "ename": "ImportError",
     "evalue": "tokenizers>=0.11.1,!=0.11.3,<0.14 is required for a normal functioning of this module, but found tokenizers==0.15.0.\nTry: pip install transformers -U or pip install -e '.[dev]' if you're working with git main",
     "output_type": "error",
     "traceback": [
      "\u001b[1;31m---------------------------------------------------------------------------\u001b[0m",
      "\u001b[1;31mImportError\u001b[0m                               Traceback (most recent call last)",
      "Cell \u001b[1;32mIn[6], line 1\u001b[0m\n\u001b[1;32m----> 1\u001b[0m \u001b[38;5;28;01mfrom\u001b[39;00m \u001b[38;5;21;01mtransformers\u001b[39;00m \u001b[38;5;28;01mimport\u001b[39;00m AutoTokenizer, AutoModelForCausalLM\n\u001b[0;32m      3\u001b[0m tokenizer \u001b[38;5;241m=\u001b[39m AutoTokenizer\u001b[38;5;241m.\u001b[39mfrom_pretrained(\u001b[38;5;124m\"\u001b[39m\u001b[38;5;124mgoogle/gemma-7b\u001b[39m\u001b[38;5;124m\"\u001b[39m)\n\u001b[0;32m      4\u001b[0m model \u001b[38;5;241m=\u001b[39m AutoModelForCausalLM\u001b[38;5;241m.\u001b[39mfrom_pretrained(\u001b[38;5;124m\"\u001b[39m\u001b[38;5;124mgoogle/gemma-7b\u001b[39m\u001b[38;5;124m\"\u001b[39m)\n",
      "File \u001b[1;32m~\\AppData\\Roaming\\Python\\Python311\\site-packages\\transformers\\__init__.py:26\u001b[0m\n\u001b[0;32m     23\u001b[0m \u001b[38;5;28;01mfrom\u001b[39;00m \u001b[38;5;21;01mtyping\u001b[39;00m \u001b[38;5;28;01mimport\u001b[39;00m TYPE_CHECKING\n\u001b[0;32m     25\u001b[0m \u001b[38;5;66;03m# Check the dependencies satisfy the minimal versions required.\u001b[39;00m\n\u001b[1;32m---> 26\u001b[0m \u001b[38;5;28;01mfrom\u001b[39;00m \u001b[38;5;21;01m.\u001b[39;00m \u001b[38;5;28;01mimport\u001b[39;00m dependency_versions_check\n\u001b[0;32m     27\u001b[0m \u001b[38;5;28;01mfrom\u001b[39;00m \u001b[38;5;21;01m.\u001b[39;00m\u001b[38;5;21;01mutils\u001b[39;00m \u001b[38;5;28;01mimport\u001b[39;00m (\n\u001b[0;32m     28\u001b[0m     OptionalDependencyNotAvailable,\n\u001b[0;32m     29\u001b[0m     _LazyModule,\n\u001b[1;32m   (...)\u001b[0m\n\u001b[0;32m     47\u001b[0m     logging,\n\u001b[0;32m     48\u001b[0m )\n\u001b[0;32m     51\u001b[0m logger \u001b[38;5;241m=\u001b[39m logging\u001b[38;5;241m.\u001b[39mget_logger(\u001b[38;5;18m__name__\u001b[39m)  \u001b[38;5;66;03m# pylint: disable=invalid-name\u001b[39;00m\n",
      "File \u001b[1;32m~\\AppData\\Roaming\\Python\\Python311\\site-packages\\transformers\\dependency_versions_check.py:57\u001b[0m\n\u001b[0;32m     54\u001b[0m         \u001b[38;5;28;01mif\u001b[39;00m \u001b[38;5;129;01mnot\u001b[39;00m is_accelerate_available():\n\u001b[0;32m     55\u001b[0m             \u001b[38;5;28;01mcontinue\u001b[39;00m  \u001b[38;5;66;03m# not required, check version only if installed\u001b[39;00m\n\u001b[1;32m---> 57\u001b[0m     require_version_core(deps[pkg])\n\u001b[0;32m     58\u001b[0m \u001b[38;5;28;01melse\u001b[39;00m:\n\u001b[0;32m     59\u001b[0m     \u001b[38;5;28;01mraise\u001b[39;00m \u001b[38;5;167;01mValueError\u001b[39;00m(\u001b[38;5;124mf\u001b[39m\u001b[38;5;124m\"\u001b[39m\u001b[38;5;124mcan\u001b[39m\u001b[38;5;124m'\u001b[39m\u001b[38;5;124mt find \u001b[39m\u001b[38;5;132;01m{\u001b[39;00mpkg\u001b[38;5;132;01m}\u001b[39;00m\u001b[38;5;124m in \u001b[39m\u001b[38;5;132;01m{\u001b[39;00mdeps\u001b[38;5;241m.\u001b[39mkeys()\u001b[38;5;132;01m}\u001b[39;00m\u001b[38;5;124m, check dependency_versions_table.py\u001b[39m\u001b[38;5;124m\"\u001b[39m)\n",
      "File \u001b[1;32mC:\\ProgramData\\anaconda3\\Lib\\site-packages\\transformers\\utils\\versions.py:117\u001b[0m, in \u001b[0;36mrequire_version_core\u001b[1;34m(requirement)\u001b[0m\n\u001b[0;32m    115\u001b[0m \u001b[38;5;250m\u001b[39m\u001b[38;5;124;03m\"\"\"require_version wrapper which emits a core-specific hint on failure\"\"\"\u001b[39;00m\n\u001b[0;32m    116\u001b[0m hint \u001b[38;5;241m=\u001b[39m \u001b[38;5;124m\"\u001b[39m\u001b[38;5;124mTry: pip install transformers -U or pip install -e \u001b[39m\u001b[38;5;124m'\u001b[39m\u001b[38;5;124m.[dev]\u001b[39m\u001b[38;5;124m'\u001b[39m\u001b[38;5;124m if you\u001b[39m\u001b[38;5;124m'\u001b[39m\u001b[38;5;124mre working with git main\u001b[39m\u001b[38;5;124m\"\u001b[39m\n\u001b[1;32m--> 117\u001b[0m \u001b[38;5;28;01mreturn\u001b[39;00m require_version(requirement, hint)\n",
      "File \u001b[1;32mC:\\ProgramData\\anaconda3\\Lib\\site-packages\\transformers\\utils\\versions.py:111\u001b[0m, in \u001b[0;36mrequire_version\u001b[1;34m(requirement, hint)\u001b[0m\n\u001b[0;32m    109\u001b[0m \u001b[38;5;28;01mif\u001b[39;00m want_ver \u001b[38;5;129;01mis\u001b[39;00m \u001b[38;5;129;01mnot\u001b[39;00m \u001b[38;5;28;01mNone\u001b[39;00m:\n\u001b[0;32m    110\u001b[0m     \u001b[38;5;28;01mfor\u001b[39;00m op, want_ver \u001b[38;5;129;01min\u001b[39;00m wanted\u001b[38;5;241m.\u001b[39mitems():\n\u001b[1;32m--> 111\u001b[0m         _compare_versions(op, got_ver, want_ver, requirement, pkg, hint)\n",
      "File \u001b[1;32mC:\\ProgramData\\anaconda3\\Lib\\site-packages\\transformers\\utils\\versions.py:44\u001b[0m, in \u001b[0;36m_compare_versions\u001b[1;34m(op, got_ver, want_ver, requirement, pkg, hint)\u001b[0m\n\u001b[0;32m     39\u001b[0m     \u001b[38;5;28;01mraise\u001b[39;00m \u001b[38;5;167;01mValueError\u001b[39;00m(\n\u001b[0;32m     40\u001b[0m         \u001b[38;5;124mf\u001b[39m\u001b[38;5;124m\"\u001b[39m\u001b[38;5;124mUnable to compare versions for \u001b[39m\u001b[38;5;132;01m{\u001b[39;00mrequirement\u001b[38;5;132;01m}\u001b[39;00m\u001b[38;5;124m: need=\u001b[39m\u001b[38;5;132;01m{\u001b[39;00mwant_ver\u001b[38;5;132;01m}\u001b[39;00m\u001b[38;5;124m found=\u001b[39m\u001b[38;5;132;01m{\u001b[39;00mgot_ver\u001b[38;5;132;01m}\u001b[39;00m\u001b[38;5;124m. This is unusual. Consider\u001b[39m\u001b[38;5;124m\"\u001b[39m\n\u001b[0;32m     41\u001b[0m         \u001b[38;5;124mf\u001b[39m\u001b[38;5;124m\"\u001b[39m\u001b[38;5;124m reinstalling \u001b[39m\u001b[38;5;132;01m{\u001b[39;00mpkg\u001b[38;5;132;01m}\u001b[39;00m\u001b[38;5;124m.\u001b[39m\u001b[38;5;124m\"\u001b[39m\n\u001b[0;32m     42\u001b[0m     )\n\u001b[0;32m     43\u001b[0m \u001b[38;5;28;01mif\u001b[39;00m \u001b[38;5;129;01mnot\u001b[39;00m ops[op](version\u001b[38;5;241m.\u001b[39mparse(got_ver), version\u001b[38;5;241m.\u001b[39mparse(want_ver)):\n\u001b[1;32m---> 44\u001b[0m     \u001b[38;5;28;01mraise\u001b[39;00m \u001b[38;5;167;01mImportError\u001b[39;00m(\n\u001b[0;32m     45\u001b[0m         \u001b[38;5;124mf\u001b[39m\u001b[38;5;124m\"\u001b[39m\u001b[38;5;132;01m{\u001b[39;00mrequirement\u001b[38;5;132;01m}\u001b[39;00m\u001b[38;5;124m is required for a normal functioning of this module, but found \u001b[39m\u001b[38;5;132;01m{\u001b[39;00mpkg\u001b[38;5;132;01m}\u001b[39;00m\u001b[38;5;124m==\u001b[39m\u001b[38;5;132;01m{\u001b[39;00mgot_ver\u001b[38;5;132;01m}\u001b[39;00m\u001b[38;5;124m.\u001b[39m\u001b[38;5;132;01m{\u001b[39;00mhint\u001b[38;5;132;01m}\u001b[39;00m\u001b[38;5;124m\"\u001b[39m\n\u001b[0;32m     46\u001b[0m     )\n",
      "\u001b[1;31mImportError\u001b[0m: tokenizers>=0.11.1,!=0.11.3,<0.14 is required for a normal functioning of this module, but found tokenizers==0.15.0.\nTry: pip install transformers -U or pip install -e '.[dev]' if you're working with git main"
     ]
    }
   ],
   "source": [
    "from transformers import AutoTokenizer, AutoModelForCausalLM\n",
    "\n",
    "tokenizer = AutoTokenizer.from_pretrained(\"google/gemma-7b\")\n",
    "model = AutoModelForCausalLM.from_pretrained(\"google/gemma-7b\")"
   ]
  },
  {
   "cell_type": "code",
   "execution_count": null,
   "id": "0e7369fc",
   "metadata": {},
   "outputs": [],
   "source": [
    "input_text = \"Write me a poem about Machine Learning.\"\n",
    "input_ids = tokenizer(input_text, return_tensors=\"pt\")"
   ]
  }
 ],
 "metadata": {
  "kernelspec": {
   "display_name": "Python 3 (ipykernel)",
   "language": "python",
   "name": "python3"
  },
  "language_info": {
   "codemirror_mode": {
    "name": "ipython",
    "version": 3
   },
   "file_extension": ".py",
   "mimetype": "text/x-python",
   "name": "python",
   "nbconvert_exporter": "python",
   "pygments_lexer": "ipython3",
   "version": "3.11.5"
  }
 },
 "nbformat": 4,
 "nbformat_minor": 5
}
